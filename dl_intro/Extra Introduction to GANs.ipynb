{
 "cells": [
  {
   "cell_type": "markdown",
   "metadata": {
    "slideshow": {
     "slide_type": "slide"
    }
   },
   "source": [
    "# GA(i)Ning confidence: Deep Learning for Data Generation"
   ]
  },
  {
   "cell_type": "markdown",
   "metadata": {
    "slideshow": {
     "slide_type": "-"
    }
   },
   "source": [
    "> _To those who will consider the jokes more of a pun-ishment than the math_"
   ]
  },
  {
   "cell_type": "markdown",
   "metadata": {
    "slideshow": {
     "slide_type": "skip"
    }
   },
   "source": [
    "> “The coolest idea in deep learning in the last 20 years.”\n",
    "\n",
    "Yann LeCun on GANs."
   ]
  },
  {
   "cell_type": "markdown",
   "metadata": {},
   "source": [
    "---"
   ]
  },
  {
   "cell_type": "markdown",
   "metadata": {},
   "source": [
    "Machine learning algorithms are great at recognising _patterns_ in existing data and using that insight for tasks such as **classification** (assigning the correct category to an example) and \n",
    "**regression** (estimating a numerical value based on a variety of inputs)."
   ]
  },
  {
   "cell_type": "markdown",
   "metadata": {},
   "source": [
    "![supervised learning](supervised.png)"
   ]
  },
  {
   "cell_type": "markdown",
   "metadata": {},
   "source": [
    "When asked to generate new data, however, computers have struggled."
   ]
  },
  {
   "cell_type": "markdown",
   "metadata": {},
   "source": [
    "This all changed in 2014 when Ian Goodfellow, then a PhD student at the University of Montreal, invented **Generative Adversarial Networks** (GANs). \n",
    "\n",
    "This technique has enabled computers to generate realistic data by using not **one**, but **two**, separate neural networks."
   ]
  },
  {
   "cell_type": "markdown",
   "metadata": {},
   "source": [
    "GANs were not the first computer program used to generate data, but their results and versatility set them apart from all the rest."
   ]
  },
  {
   "cell_type": "markdown",
   "metadata": {},
   "source": [
    "![progress](progress_human_face.png)"
   ]
  },
  {
   "cell_type": "markdown",
   "metadata": {},
   "source": [
    "---"
   ]
  },
  {
   "cell_type": "markdown",
   "metadata": {},
   "source": [
    "## What are Generative Adversarial Networks?"
   ]
  },
  {
   "cell_type": "markdown",
   "metadata": {},
   "source": [
    "###### Pop-Science Definition\n",
    "\n",
    "_Generative Adversarial Networks_ (GANs) are a class of machine learning techniques that consist of two simultaneously trained models: one (the **Generator**) trained to generate **fake** data, and the other (the **Discriminator**) trained to discern the fake data from real examples."
   ]
  },
  {
   "cell_type": "markdown",
   "metadata": {},
   "source": [
    "##### A. Generative\n",
    "\n",
    "The word *generative* indicates the overall purpose of the model: **creating new data**. \n",
    "\n",
    "The data that a `GAN` will learn to generate depends on the choice of the training set. \n",
    "\n",
    "For example, if we want a `GAN` to synthesize images that look like Leonardo da Vinci’s, we would use a training dataset of da Vinci’s artwork."
   ]
  },
  {
   "cell_type": "markdown",
   "metadata": {},
   "source": [
    "##### B. Adversarial\n",
    "\n",
    "The term *adversarial* points to the **game-like**, **competitive** dynamic between the two models that constitute the GAN framework: the `Generator` and the `Discriminator`. \n",
    "\n",
    "* The Generator’s goal is to create examples that are indistinguishable from the real data in the training set. \n",
    "* The Discriminator’s objective is to distinguish the fake examples produced by the Generator from the real examples coming from the training dataset. \n",
    "\n",
    "In our example, the `Generator` tries to produce _paintings that looks like Da Vinci's_; whereasthe `Discriminator` plays the role of an art expert assessing the authenticity of paintings believed to be \n",
    "Da Vinci’s. "
   ]
  },
  {
   "cell_type": "markdown",
   "metadata": {},
   "source": [
    "###### Game-like framework\n",
    "\n",
    "The two networks are continually trying to outwit each other: the better the `Generator` gets at creating convincing data, the better the `Discriminator` needs to be at distinguishing real examples from the fake ones."
   ]
  },
  {
   "cell_type": "markdown",
   "metadata": {},
   "source": [
    "##### C. Networks\n",
    "\n",
    "The word *networks* indicates the class of machine learning models most commonly used to represent the `Generator` and the `Discriminator`, i.e. **Neural Networks**. \n",
    "\n",
    "Depending on the complexity of the GAN implementation, these can range from simple _feed-forward neural networks_ to _convolutional neural networks_ or even more complex variants."
   ]
  },
  {
   "cell_type": "markdown",
   "metadata": {},
   "source": [
    "---"
   ]
  },
  {
   "cell_type": "markdown",
   "metadata": {},
   "source": [
    "### How GAN Works?"
   ]
  },
  {
   "cell_type": "markdown",
   "metadata": {},
   "source": [
    "![](https://miro.medium.com/max/700/1*5rMmuXmAquGTT-odw-bOpw.jpeg)"
   ]
  },
  {
   "cell_type": "markdown",
   "metadata": {},
   "source": [
    "![](GAN_loop.png)"
   ]
  },
  {
   "cell_type": "markdown",
   "metadata": {},
   "source": [
    "[Vanilla GAN Example on Colaboratory](https://colab.research.google.com/drive/1hte-BMLBMbzZhmmsuJjVIeZGoAONdmGI?usp=sharing)"
   ]
  }
 ],
 "metadata": {
  "kernelspec": {
   "display_name": "Python 3.7 (DL-TORCH)",
   "language": "python",
   "name": "dl-torch"
  },
  "language_info": {
   "codemirror_mode": {
    "name": "ipython",
    "version": 3
   },
   "file_extension": ".py",
   "mimetype": "text/x-python",
   "name": "python",
   "nbconvert_exporter": "python",
   "pygments_lexer": "ipython3",
   "version": "3.7.7"
  }
 },
 "nbformat": 4,
 "nbformat_minor": 4
}
